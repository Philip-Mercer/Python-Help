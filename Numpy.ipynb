{
 "cells": [
  {
   "cell_type": "code",
   "execution_count": 1,
   "id": "38809ea5",
   "metadata": {},
   "outputs": [
    {
     "data": {
      "text/plain": [
       "array([[45, 61],\n",
       "       [71, 52],\n",
       "       [70, 68],\n",
       "       [82, 43]])"
      ]
     },
     "execution_count": 1,
     "metadata": {},
     "output_type": "execute_result"
    }
   ],
   "source": [
    "import numpy as np\n",
    "\n",
    "\n",
    "np.random.randint(1, 100, (4,2))\n"
   ]
  },
  {
   "cell_type": "code",
   "execution_count": 3,
   "id": "219315db",
   "metadata": {},
   "outputs": [
    {
     "data": {
      "text/plain": [
       "array([[1., 0., 0., 0., 0., 0., 0., 0., 0., 0.],\n",
       "       [0., 1., 0., 0., 0., 0., 0., 0., 0., 0.],\n",
       "       [0., 0., 1., 0., 0., 0., 0., 0., 0., 0.],\n",
       "       [0., 0., 0., 1., 0., 0., 0., 0., 0., 0.],\n",
       "       [0., 0., 0., 0., 1., 0., 0., 0., 0., 0.],\n",
       "       [0., 0., 0., 0., 0., 1., 0., 0., 0., 0.],\n",
       "       [0., 0., 0., 0., 0., 0., 1., 0., 0., 0.],\n",
       "       [0., 0., 0., 0., 0., 0., 0., 1., 0., 0.],\n",
       "       [0., 0., 0., 0., 0., 0., 0., 0., 1., 0.],\n",
       "       [0., 0., 0., 0., 0., 0., 0., 0., 0., 1.]])"
      ]
     },
     "execution_count": 3,
     "metadata": {},
     "output_type": "execute_result"
    }
   ],
   "source": [
    "np.eye(10)"
   ]
  },
  {
   "cell_type": "code",
   "execution_count": 4,
   "id": "d69e680e",
   "metadata": {},
   "outputs": [],
   "source": [
    "big_arr = np.random.randint(1, 10, 100)"
   ]
  },
  {
   "cell_type": "code",
   "execution_count": 5,
   "id": "a7bae6e5",
   "metadata": {},
   "outputs": [],
   "source": [
    "grid_arr = big_arr.reshape(10, 10)"
   ]
  },
  {
   "cell_type": "code",
   "execution_count": 6,
   "id": "70f030cc",
   "metadata": {},
   "outputs": [
    {
     "data": {
      "text/plain": [
       "array([[8, 3, 1, 4, 3, 1, 6, 8, 5, 4],\n",
       "       [8, 8, 5, 1, 8, 4, 1, 5, 4, 3],\n",
       "       [5, 1, 8, 8, 1, 4, 8, 1, 3, 5],\n",
       "       [6, 7, 6, 1, 8, 2, 7, 8, 5, 2],\n",
       "       [3, 1, 8, 1, 6, 7, 7, 6, 4, 3],\n",
       "       [5, 6, 2, 1, 3, 8, 4, 5, 9, 4],\n",
       "       [8, 2, 6, 6, 3, 7, 8, 2, 8, 2],\n",
       "       [9, 4, 8, 1, 1, 1, 1, 5, 1, 3],\n",
       "       [3, 3, 3, 4, 1, 4, 3, 3, 5, 8],\n",
       "       [1, 7, 1, 8, 3, 4, 4, 5, 5, 5]])"
      ]
     },
     "execution_count": 6,
     "metadata": {},
     "output_type": "execute_result"
    }
   ],
   "source": [
    "grid_arr\n"
   ]
  },
  {
   "cell_type": "code",
   "execution_count": 7,
   "id": "98f9e99e",
   "metadata": {},
   "outputs": [
    {
     "data": {
      "text/plain": [
       "9"
      ]
     },
     "execution_count": 7,
     "metadata": {},
     "output_type": "execute_result"
    }
   ],
   "source": [
    "grid_arr.max()"
   ]
  },
  {
   "cell_type": "code",
   "execution_count": 8,
   "id": "0121af0d",
   "metadata": {},
   "outputs": [
    {
     "data": {
      "text/plain": [
       "1"
      ]
     },
     "execution_count": 8,
     "metadata": {},
     "output_type": "execute_result"
    }
   ],
   "source": [
    "grid_arr.min()"
   ]
  },
  {
   "cell_type": "code",
   "execution_count": 9,
   "id": "481e1de9",
   "metadata": {},
   "outputs": [
    {
     "data": {
      "text/plain": [
       "58"
      ]
     },
     "execution_count": 9,
     "metadata": {},
     "output_type": "execute_result"
    }
   ],
   "source": [
    "grid_arr.argmax()"
   ]
  },
  {
   "cell_type": "code",
   "execution_count": 10,
   "id": "184f8936",
   "metadata": {},
   "outputs": [
    {
     "data": {
      "text/plain": [
       "2"
      ]
     },
     "execution_count": 10,
     "metadata": {},
     "output_type": "execute_result"
    }
   ],
   "source": [
    "grid_arr.argmin()"
   ]
  },
  {
   "cell_type": "code",
   "execution_count": 12,
   "id": "3fecdfba",
   "metadata": {},
   "outputs": [
    {
     "data": {
      "text/plain": [
       "(10, 10)"
      ]
     },
     "execution_count": 12,
     "metadata": {},
     "output_type": "execute_result"
    }
   ],
   "source": [
    "grid_arr.shape"
   ]
  },
  {
   "cell_type": "code",
   "execution_count": 13,
   "id": "607bfc26",
   "metadata": {},
   "outputs": [],
   "source": [
    "arr = np.array([1, 4, 6, 78, 9])"
   ]
  },
  {
   "cell_type": "code",
   "execution_count": 14,
   "id": "974a032e",
   "metadata": {},
   "outputs": [
    {
     "data": {
      "text/plain": [
       "array([ 1,  4,  6, 78,  9])"
      ]
     },
     "execution_count": 14,
     "metadata": {},
     "output_type": "execute_result"
    }
   ],
   "source": [
    "arr\n"
   ]
  },
  {
   "cell_type": "code",
   "execution_count": 15,
   "id": "21d6c923",
   "metadata": {},
   "outputs": [
    {
     "data": {
      "text/plain": [
       "3"
      ]
     },
     "execution_count": 15,
     "metadata": {},
     "output_type": "execute_result"
    }
   ],
   "source": [
    "from numpy.random import randint\n",
    "\n",
    "randint(4)"
   ]
  },
  {
   "cell_type": "code",
   "execution_count": 6,
   "id": "11f2749d",
   "metadata": {},
   "outputs": [
    {
     "data": {
      "text/plain": [
       "array([[ 1,  2,  3,  4,  5],\n",
       "       [ 6,  7,  8,  9, 10],\n",
       "       [11, 12, 13, 14, 15],\n",
       "       [16, 17, 18, 19, 20],\n",
       "       [21, 22, 23, 24, 25],\n",
       "       [26, 27, 28, 29, 30],\n",
       "       [31, 32, 33, 34, 35],\n",
       "       [36, 37, 38, 39, 40],\n",
       "       [41, 42, 43, 44, 45],\n",
       "       [46, 47, 48, 49, 50]])"
      ]
     },
     "execution_count": 6,
     "metadata": {},
     "output_type": "execute_result"
    }
   ],
   "source": [
    "\n",
    "arr = np.arange(1, 51).reshape(10, 5)\n",
    "\n",
    "arr"
   ]
  },
  {
   "cell_type": "code",
   "execution_count": 9,
   "id": "0a76fb58",
   "metadata": {},
   "outputs": [
    {
     "data": {
      "text/plain": [
       "array([[18, 19, 20],\n",
       "       [23, 24, 25],\n",
       "       [28, 29, 30],\n",
       "       [33, 34, 35],\n",
       "       [38, 39, 40]])"
      ]
     },
     "execution_count": 9,
     "metadata": {},
     "output_type": "execute_result"
    }
   ],
   "source": [
    "arr[3:8, 2:5]"
   ]
  },
  {
   "cell_type": "code",
   "execution_count": 10,
   "id": "e90c5e16",
   "metadata": {},
   "outputs": [
    {
     "data": {
      "text/plain": [
       "array([ 1,  2,  3,  4,  5,  6,  7,  8,  9, 10, 11, 12, 13, 14, 15, 16, 17,\n",
       "       18, 19])"
      ]
     },
     "execution_count": 10,
     "metadata": {},
     "output_type": "execute_result"
    }
   ],
   "source": [
    "arr[arr < 20]"
   ]
  },
  {
   "cell_type": "code",
   "execution_count": 11,
   "id": "de916cee",
   "metadata": {},
   "outputs": [
    {
     "data": {
      "text/plain": [
       "array([[   1,    4,    9,   16,   25],\n",
       "       [  36,   49,   64,   81,  100],\n",
       "       [ 121,  144,  169,  196,  225],\n",
       "       [ 256,  289,  324,  361,  400],\n",
       "       [ 441,  484,  529,  576,  625],\n",
       "       [ 676,  729,  784,  841,  900],\n",
       "       [ 961, 1024, 1089, 1156, 1225],\n",
       "       [1296, 1369, 1444, 1521, 1600],\n",
       "       [1681, 1764, 1849, 1936, 2025],\n",
       "       [2116, 2209, 2304, 2401, 2500]])"
      ]
     },
     "execution_count": 11,
     "metadata": {},
     "output_type": "execute_result"
    }
   ],
   "source": [
    "arr ** 2"
   ]
  },
  {
   "cell_type": "code",
   "execution_count": 12,
   "id": "4f9c5141",
   "metadata": {},
   "outputs": [
    {
     "data": {
      "text/plain": [
       "array([[1.        , 1.41421356, 1.73205081, 2.        , 2.23606798],\n",
       "       [2.44948974, 2.64575131, 2.82842712, 3.        , 3.16227766],\n",
       "       [3.31662479, 3.46410162, 3.60555128, 3.74165739, 3.87298335],\n",
       "       [4.        , 4.12310563, 4.24264069, 4.35889894, 4.47213595],\n",
       "       [4.58257569, 4.69041576, 4.79583152, 4.89897949, 5.        ],\n",
       "       [5.09901951, 5.19615242, 5.29150262, 5.38516481, 5.47722558],\n",
       "       [5.56776436, 5.65685425, 5.74456265, 5.83095189, 5.91607978],\n",
       "       [6.        , 6.08276253, 6.164414  , 6.244998  , 6.32455532],\n",
       "       [6.40312424, 6.4807407 , 6.55743852, 6.63324958, 6.70820393],\n",
       "       [6.78232998, 6.8556546 , 6.92820323, 7.        , 7.07106781]])"
      ]
     },
     "execution_count": 12,
     "metadata": {},
     "output_type": "execute_result"
    }
   ],
   "source": [
    "np.sqrt(arr)"
   ]
  },
  {
   "cell_type": "code",
   "execution_count": 13,
   "id": "bd0d7f38",
   "metadata": {},
   "outputs": [
    {
     "data": {
      "text/plain": [
       "array([2.71828183e+00, 7.38905610e+00, 2.00855369e+01, 5.45981500e+01,\n",
       "       1.48413159e+02, 4.03428793e+02, 1.09663316e+03, 2.98095799e+03,\n",
       "       8.10308393e+03, 2.20264658e+04, 5.98741417e+04, 1.62754791e+05,\n",
       "       4.42413392e+05, 1.20260428e+06, 3.26901737e+06, 8.88611052e+06,\n",
       "       2.41549528e+07, 6.56599691e+07, 1.78482301e+08])"
      ]
     },
     "execution_count": 13,
     "metadata": {},
     "output_type": "execute_result"
    }
   ],
   "source": [
    "np.exp(arr[arr < 20])"
   ]
  },
  {
   "cell_type": "code",
   "execution_count": 14,
   "id": "5d66a9ab",
   "metadata": {},
   "outputs": [
    {
     "data": {
      "text/plain": [
       "2500"
      ]
     },
     "execution_count": 14,
     "metadata": {},
     "output_type": "execute_result"
    }
   ],
   "source": [
    "np.max(arr ** 2)"
   ]
  },
  {
   "cell_type": "code",
   "execution_count": 15,
   "id": "98b0abe2",
   "metadata": {},
   "outputs": [
    {
     "data": {
      "text/plain": [
       "50"
      ]
     },
     "execution_count": 15,
     "metadata": {},
     "output_type": "execute_result"
    }
   ],
   "source": [
    "arr.max()"
   ]
  },
  {
   "cell_type": "code",
   "execution_count": 16,
   "id": "c0ae4c1d",
   "metadata": {},
   "outputs": [],
   "source": [
    "arr2 = np.arange(0, 50)"
   ]
  },
  {
   "cell_type": "code",
   "execution_count": 17,
   "id": "6ae9131e",
   "metadata": {},
   "outputs": [
    {
     "data": {
      "text/plain": [
       "array([ 0,  1,  2,  3,  4,  5,  6,  7,  8,  9, 10, 11, 12, 13, 14, 15, 16,\n",
       "       17, 18, 19, 20, 21, 22, 23, 24, 25, 26, 27, 28, 29, 30, 31, 32, 33,\n",
       "       34, 35, 36, 37, 38, 39, 40, 41, 42, 43, 44, 45, 46, 47, 48, 49])"
      ]
     },
     "execution_count": 17,
     "metadata": {},
     "output_type": "execute_result"
    }
   ],
   "source": [
    "arr2\n"
   ]
  },
  {
   "cell_type": "code",
   "execution_count": 18,
   "id": "f4e4c5c1",
   "metadata": {},
   "outputs": [
    {
     "name": "stderr",
     "output_type": "stream",
     "text": [
      "C:\\Users\\philm\\AppData\\Local\\Temp\\ipykernel_20896\\3053098687.py:1: RuntimeWarning: invalid value encountered in divide\n",
      "  arr2 / arr2\n"
     ]
    },
    {
     "data": {
      "text/plain": [
       "array([nan,  1.,  1.,  1.,  1.,  1.,  1.,  1.,  1.,  1.,  1.,  1.,  1.,\n",
       "        1.,  1.,  1.,  1.,  1.,  1.,  1.,  1.,  1.,  1.,  1.,  1.,  1.,\n",
       "        1.,  1.,  1.,  1.,  1.,  1.,  1.,  1.,  1.,  1.,  1.,  1.,  1.,\n",
       "        1.,  1.,  1.,  1.,  1.,  1.,  1.,  1.,  1.,  1.,  1.])"
      ]
     },
     "execution_count": 18,
     "metadata": {},
     "output_type": "execute_result"
    }
   ],
   "source": [
    "arr2 / arr2"
   ]
  },
  {
   "cell_type": "code",
   "execution_count": 19,
   "id": "b70fb99a",
   "metadata": {},
   "outputs": [
    {
     "name": "stderr",
     "output_type": "stream",
     "text": [
      "C:\\Users\\philm\\AppData\\Local\\Temp\\ipykernel_20896\\3854864060.py:1: RuntimeWarning: divide by zero encountered in divide\n",
      "  1 / arr2\n"
     ]
    },
    {
     "data": {
      "text/plain": [
       "array([       inf, 1.        , 0.5       , 0.33333333, 0.25      ,\n",
       "       0.2       , 0.16666667, 0.14285714, 0.125     , 0.11111111,\n",
       "       0.1       , 0.09090909, 0.08333333, 0.07692308, 0.07142857,\n",
       "       0.06666667, 0.0625    , 0.05882353, 0.05555556, 0.05263158,\n",
       "       0.05      , 0.04761905, 0.04545455, 0.04347826, 0.04166667,\n",
       "       0.04      , 0.03846154, 0.03703704, 0.03571429, 0.03448276,\n",
       "       0.03333333, 0.03225806, 0.03125   , 0.03030303, 0.02941176,\n",
       "       0.02857143, 0.02777778, 0.02702703, 0.02631579, 0.02564103,\n",
       "       0.025     , 0.02439024, 0.02380952, 0.02325581, 0.02272727,\n",
       "       0.02222222, 0.02173913, 0.0212766 , 0.02083333, 0.02040816])"
      ]
     },
     "execution_count": 19,
     "metadata": {},
     "output_type": "execute_result"
    }
   ],
   "source": [
    "1 / arr2"
   ]
  },
  {
   "cell_type": "code",
   "execution_count": 22,
   "id": "a1e0886f",
   "metadata": {},
   "outputs": [
    {
     "data": {
      "text/plain": [
       "array([[ 0,  1,  2,  3,  4,  5,  6,  7,  8,  9],\n",
       "       [10, 11, 12, 13, 14, 15, 16, 17, 18, 19],\n",
       "       [20, 21, 22, 23, 24, 25, 26, 27, 28, 29],\n",
       "       [30, 31, 32, 33, 34, 35, 36, 37, 38, 39],\n",
       "       [40, 41, 42, 43, 44, 45, 46, 47, 48, 49]])"
      ]
     },
     "execution_count": 22,
     "metadata": {},
     "output_type": "execute_result"
    }
   ],
   "source": [
    "arr2.reshape(5, 10)"
   ]
  },
  {
   "cell_type": "code",
   "execution_count": 27,
   "id": "fde853b7",
   "metadata": {},
   "outputs": [
    {
     "data": {
      "text/plain": [
       "array([[105],\n",
       "       [115],\n",
       "       [125],\n",
       "       [135],\n",
       "       [145]])"
      ]
     },
     "execution_count": 27,
     "metadata": {},
     "output_type": "execute_result"
    }
   ],
   "source": [
    "arr2_sub = arr2.reshape(5, 10)\n",
    "\n",
    "arr_filter =  arr2_sub[:, 5:6]\n",
    "\n",
    "arr_filter + 100"
   ]
  },
  {
   "cell_type": "code",
   "execution_count": 36,
   "id": "16315c64",
   "metadata": {},
   "outputs": [
    {
     "data": {
      "text/plain": [
       "array([[ 0,  1,  2,  3,  4,  5,  6,  7,  8,  9],\n",
       "       [10, 11, 12, 13, 14, 15, 16, 17, 18, 19],\n",
       "       [20, 21, 22, 23, 24, 25, 26, 27, 28, 29],\n",
       "       [30, 31, 32, 33, 34, 35, 36, 37, 38, 39],\n",
       "       [40, 41, 42, 43, 44, 45, 46, 47, 48, 49]])"
      ]
     },
     "execution_count": 36,
     "metadata": {},
     "output_type": "execute_result"
    }
   ],
   "source": [
    "arr2_sub"
   ]
  },
  {
   "cell_type": "code",
   "execution_count": 34,
   "id": "8e095743",
   "metadata": {},
   "outputs": [
    {
     "data": {
      "text/plain": [
       "array([ 0,  1,  2,  3,  4,  5,  6,  7,  8,  9, 10, 11, 12, 13, 14, 15, 16,\n",
       "       17, 18, 19, 20, 21, 22, 23, 24, 25, 26, 27, 28, 29, 30, 31, 32, 33,\n",
       "       34, 35, 36, 37, 38, 39, 40, 41, 42, 43, 44, 45, 46, 47, 48, 49])"
      ]
     },
     "execution_count": 34,
     "metadata": {},
     "output_type": "execute_result"
    }
   ],
   "source": [
    "arr2"
   ]
  },
  {
   "cell_type": "code",
   "execution_count": 32,
   "id": "864285a1",
   "metadata": {},
   "outputs": [],
   "source": [
    "arr_filter = arr_filter + 1000"
   ]
  },
  {
   "cell_type": "code",
   "execution_count": 33,
   "id": "1c5e3781",
   "metadata": {},
   "outputs": [
    {
     "data": {
      "text/plain": [
       "array([[1005],\n",
       "       [1015],\n",
       "       [1025],\n",
       "       [1035],\n",
       "       [1045]])"
      ]
     },
     "execution_count": 33,
     "metadata": {},
     "output_type": "execute_result"
    }
   ],
   "source": [
    "arr_filter"
   ]
  },
  {
   "cell_type": "code",
   "execution_count": 38,
   "id": "1991a51c",
   "metadata": {},
   "outputs": [
    {
     "data": {
      "text/plain": [
       "array([[ 1,  2,  3,  4,  5],\n",
       "       [ 6,  7,  8,  9, 10],\n",
       "       [11, 12, 13, 14, 15],\n",
       "       [16, 17, 18, 19, 20],\n",
       "       [21, 22, 23, 24, 25],\n",
       "       [26, 27, 28, 29, 30],\n",
       "       [31, 32, 33, 34, 35],\n",
       "       [36, 37, 38, 39, 40],\n",
       "       [41, 42, 43, 44, 45],\n",
       "       [46, 47, 48, 49, 50]])"
      ]
     },
     "execution_count": 38,
     "metadata": {},
     "output_type": "execute_result"
    }
   ],
   "source": [
    "arr"
   ]
  },
  {
   "cell_type": "code",
   "execution_count": 39,
   "id": "1a3524a9",
   "metadata": {},
   "outputs": [
    {
     "data": {
      "text/plain": [
       "array([235, 245, 255, 265, 275])"
      ]
     },
     "execution_count": 39,
     "metadata": {},
     "output_type": "execute_result"
    }
   ],
   "source": [
    "np.sum(arr, axis=0) # Sum by column"
   ]
  },
  {
   "cell_type": "code",
   "execution_count": 40,
   "id": "5798569d",
   "metadata": {},
   "outputs": [
    {
     "data": {
      "text/plain": [
       "array([ 15,  40,  65,  90, 115, 140, 165, 190, 215, 240])"
      ]
     },
     "execution_count": 40,
     "metadata": {},
     "output_type": "execute_result"
    }
   ],
   "source": [
    "np.sum(arr, axis=1) # Sum by row"
   ]
  },
  {
   "cell_type": "code",
   "execution_count": null,
   "id": "76c6b03f",
   "metadata": {},
   "outputs": [],
   "source": []
  }
 ],
 "metadata": {
  "kernelspec": {
   "display_name": "Python 3 (ipykernel)",
   "language": "python",
   "name": "python3"
  },
  "language_info": {
   "codemirror_mode": {
    "name": "ipython",
    "version": 3
   },
   "file_extension": ".py",
   "mimetype": "text/x-python",
   "name": "python",
   "nbconvert_exporter": "python",
   "pygments_lexer": "ipython3",
   "version": "3.11.5"
  }
 },
 "nbformat": 4,
 "nbformat_minor": 5
}
