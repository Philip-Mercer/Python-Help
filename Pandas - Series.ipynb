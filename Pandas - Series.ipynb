{
 "cells": [
  {
   "cell_type": "code",
   "execution_count": 4,
   "id": "94b17334",
   "metadata": {},
   "outputs": [],
   "source": [
    "import numpy as np\n",
    "import pandas as pd"
   ]
  },
  {
   "cell_type": "code",
   "execution_count": 5,
   "id": "d28f886e",
   "metadata": {},
   "outputs": [
    {
     "data": {
      "text/plain": [
       "a    1\n",
       "b    2\n",
       "c    3\n",
       "d    4\n",
       "dtype: int64"
      ]
     },
     "execution_count": 5,
     "metadata": {},
     "output_type": "execute_result"
    }
   ],
   "source": [
    "pd.Series([1, 2, 3, 4], ['a', 'b', 'c', 'd'])"
   ]
  },
  {
   "cell_type": "code",
   "execution_count": 10,
   "id": "aa11630c",
   "metadata": {},
   "outputs": [
    {
     "data": {
      "text/plain": [
       "a                           1\n",
       "b                           2\n",
       "c    {'x': 9, 'y': 8, 'z': 7}\n",
       "dtype: object"
      ]
     },
     "execution_count": 10,
     "metadata": {},
     "output_type": "execute_result"
    }
   ],
   "source": [
    "dic = {'a':1, 'b':2, 'c':{'x': 9, 'y': 8, 'z':7}}\n",
    "\n",
    "ser_complex = pd.Series(dic)\n",
    "\n",
    "ser_complex"
   ]
  },
  {
   "cell_type": "code",
   "execution_count": 11,
   "id": "84c7ed35",
   "metadata": {},
   "outputs": [
    {
     "data": {
      "text/plain": [
       "7"
      ]
     },
     "execution_count": 11,
     "metadata": {},
     "output_type": "execute_result"
    }
   ],
   "source": [
    "ser_complex['c']['z']"
   ]
  },
  {
   "cell_type": "code",
   "execution_count": 12,
   "id": "bf8acbc3",
   "metadata": {},
   "outputs": [],
   "source": [
    "cars1 = pd.Series([25000, 89000, 32000], ['Porsche', 'Ferrari', 'Mercedes'])"
   ]
  },
  {
   "cell_type": "code",
   "execution_count": 13,
   "id": "b9b3ab2e",
   "metadata": {},
   "outputs": [],
   "source": [
    "cars2 = pd.Series([112000, 72000, 62000], ['Porsche', 'Bentley', 'Mercedes'])"
   ]
  },
  {
   "cell_type": "code",
   "execution_count": 14,
   "id": "d16eff72",
   "metadata": {},
   "outputs": [
    {
     "data": {
      "text/plain": [
       "Bentley          NaN\n",
       "Ferrari          NaN\n",
       "Mercedes     94000.0\n",
       "Porsche     137000.0\n",
       "dtype: float64"
      ]
     },
     "execution_count": 14,
     "metadata": {},
     "output_type": "execute_result"
    }
   ],
   "source": [
    "cars1 + cars2"
   ]
  },
  {
   "cell_type": "code",
   "execution_count": null,
   "id": "40bf8d03",
   "metadata": {},
   "outputs": [],
   "source": []
  }
 ],
 "metadata": {
  "kernelspec": {
   "display_name": "Python 3 (ipykernel)",
   "language": "python",
   "name": "python3"
  },
  "language_info": {
   "codemirror_mode": {
    "name": "ipython",
    "version": 3
   },
   "file_extension": ".py",
   "mimetype": "text/x-python",
   "name": "python",
   "nbconvert_exporter": "python",
   "pygments_lexer": "ipython3",
   "version": "3.11.5"
  }
 },
 "nbformat": 4,
 "nbformat_minor": 5
}
